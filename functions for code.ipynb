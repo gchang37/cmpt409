{
 "cells": [
  {
   "cell_type": "code",
   "execution_count": 1,
   "id": "ab0f9f78",
   "metadata": {},
   "outputs": [],
   "source": [
    "import numpy as np\n",
    "from qiskit import(QuantumCircuit, execute, Aer)\n",
    "from qiskit.visualization import plot_histogram\n",
    "import math\n",
    "from tkinter import *\n",
    "import tkinter.messagebox"
   ]
  },
  {
   "cell_type": "code",
   "execution_count": 2,
   "id": "da03683a",
   "metadata": {},
   "outputs": [],
   "source": [
    "sim = Aer.get_backend('statevector_simulator')\n",
    "\n",
    "global circuit\n",
    "circuit = QuantumCircuit(9, 9)"
   ]
  },
  {
   "cell_type": "code",
   "execution_count": 3,
   "id": "2125d063",
   "metadata": {},
   "outputs": [],
   "source": [
    "global status\n",
    "status = np.zeros(9)\n",
    "\n",
    "#all registers initially 0, if status = 1 --> has qubit, if status = 3 --> has been measured\n",
    "def update_status(move, register):\n",
    "    if move == 0:\n",
    "        status[register] = 1\n",
    "    if move == 3:\n",
    "        status[register] = 3"
   ]
  },
  {
   "cell_type": "code",
   "execution_count": 4,
   "id": "2ae168e8",
   "metadata": {},
   "outputs": [],
   "source": [
    "def move(register1, register2, player, measure):\n",
    "    reg1 = register1 \n",
    "    reg2 = register2\n",
    "    if measure == True:                               #we measure a register and update the status\n",
    "        circuit.measure(reg1, reg1)\n",
    "        update_status(3, reg1)\n",
    "    else:\n",
    "        if status[reg1] == 0:                         #check if registers have qubits, if not, create qubit and update status\n",
    "            circuit.id(reg1)\n",
    "            update_status(0, reg1)\n",
    "        if status[reg2] == 0:\n",
    "            circuit.id(reg2)\n",
    "            update_status(0, reg2)\n",
    "        if player == 1:                #for player 1, apply Hadamard gate\n",
    "            circuit.h(reg1)\n",
    "            circuit.h(reg2)\n",
    "        else:                          #for player 2, apply X gate\n",
    "            circuit.x(reg1)\n",
    "            circuit.x(reg2)\n",
    "\n",
    "    result = execute(circuit, sim).result().get_statevector()\n",
    "    return result\n",
    "    \n",
    "        "
   ]
  },
  {
   "cell_type": "code",
   "execution_count": 26,
   "id": "f36f35d2",
   "metadata": {},
   "outputs": [],
   "source": [
    "def find_res(all_results, register, num_qubits):\n",
    "    for index, element in enumerate(all_results):\n",
    "        if element != 0:\n",
    "            ket = bin(index)[2:].zfill(num_qubits+1)\n",
    "            result = ket[num_qubits - register - 1]\n",
    "            print(register, ket)\n",
    "            break\n",
    "    return result"
   ]
  },
  {
   "cell_type": "code",
   "execution_count": 6,
   "id": "57e4d469",
   "metadata": {},
   "outputs": [
    {
     "data": {
      "text/html": [
       "<pre style=\"word-wrap: normal;white-space: pre;background: #fff0;line-height: 1.1;font-family: &quot;Courier New&quot;,Courier,monospace\">                     \n",
       "q_0: ────────────────\n",
       "     ┌───┐┌───┐┌─┐   \n",
       "q_1: ┤ I ├┤ H ├┤M├───\n",
       "     └───┘└───┘└╥┘   \n",
       "q_2: ───────────╫────\n",
       "                ║    \n",
       "q_3: ───────────╫────\n",
       "                ║    \n",
       "q_4: ───────────╫────\n",
       "     ┌───┐┌───┐ ║ ┌─┐\n",
       "q_5: ┤ I ├┤ H ├─╫─┤M├\n",
       "     └───┘└───┘ ║ └╥┘\n",
       "q_6: ───────────╫──╫─\n",
       "                ║  ║ \n",
       "q_7: ───────────╫──╫─\n",
       "                ║  ║ \n",
       "q_8: ───────────╫──╫─\n",
       "                ║  ║ \n",
       "c: 9/═══════════╩══╩═\n",
       "                1  5 </pre>"
      ],
      "text/plain": [
       "                     \n",
       "q_0: ────────────────\n",
       "     ┌───┐┌───┐┌─┐   \n",
       "q_1: ┤ I ├┤ H ├┤M├───\n",
       "     └───┘└───┘└╥┘   \n",
       "q_2: ───────────╫────\n",
       "                ║    \n",
       "q_3: ───────────╫────\n",
       "                ║    \n",
       "q_4: ───────────╫────\n",
       "     ┌───┐┌───┐ ║ ┌─┐\n",
       "q_5: ┤ I ├┤ H ├─╫─┤M├\n",
       "     └───┘└───┘ ║ └╥┘\n",
       "q_6: ───────────╫──╫─\n",
       "                ║  ║ \n",
       "q_7: ───────────╫──╫─\n",
       "                ║  ║ \n",
       "q_8: ───────────╫──╫─\n",
       "                ║  ║ \n",
       "c: 9/═══════════╩══╩═\n",
       "                1  5 "
      ]
     },
     "execution_count": 6,
     "metadata": {},
     "output_type": "execute_result"
    }
   ],
   "source": [
    "# #for testing\n",
    "\n",
    "# move(5, 1, 1, False)\n",
    "# move(1, 2, 1, True)\n",
    "# move(5, 2, 2, True)\n",
    "# circuit.draw()"
   ]
  },
  {
   "cell_type": "code",
   "execution_count": 7,
   "id": "2bdb0f4a",
   "metadata": {},
   "outputs": [],
   "source": [
    "def checking_moves(player, measure, register1, register2):\n",
    "    reg1 = register1 - 1\n",
    "    reg2 = register2 - 1\n",
    "    if measure == True:\n",
    "        #if we are performing a measure move, we have to check if register has a qubit that is NOT measured\n",
    "        if status[reg1] == 1:\n",
    "            return True                    #can proceed with move() function\n",
    "        else:\n",
    "            print(\"No qubit in slot \", register1, \"! Choose again!\")\n",
    "            return False                   #cannot proceed with move() function\n",
    "    else:\n",
    "        #move is NOT a measure move so we have to check if registers do not contain a measured qubit\n",
    "        if status[reg1] == 3:\n",
    "            print(\"Qubit in slot \", register1, \"has been measured already! Choose again!\")\n",
    "            return False\n",
    "        if status[reg2] == 3:\n",
    "            print(\"Qubit in slot \", register2, \"has been measured already! Choose again!\")\n",
    "            return False\n",
    "        return True"
   ]
  },
  {
   "cell_type": "code",
   "execution_count": 31,
   "id": "1b54d446",
   "metadata": {},
   "outputs": [],
   "source": [
    "class MainApp:\n",
    "    def __init__(self, Parent):\n",
    "        self.myContainer = Frame(Parent)\n",
    "        self.winningCondition = False\n",
    "        self.tempreg1 = 0\n",
    "        self.tempreg2 = 0\n",
    "        self.movenum = 1\n",
    "        self.currmov = 1\n",
    "        \n",
    "        self.buttons = []\n",
    "        for i in range(9):\n",
    "            self.buttons.append(Button(text=\" \", wraplength = 150, font='Times 20 bold', bg='gray', \n",
    "                                       fg='white', height=4, width=8,command=lambda i=i :self.btnClick(i)))\n",
    "            self.buttons[i].grid(row = 5 + math.floor(i/3), column = i % 3)\n",
    "            Grid.rowconfigure(root, i % 3, weight = 1)\n",
    "            Grid.columnconfigure(root, 5 + math.floor(i/3), weight = 1)\n",
    "            \n",
    "        self.ismeasure = StringVar()\n",
    "        self.choice = Entry(textvariable = self.ismeasure, bd = 5)\n",
    "        self.choice.grid(row = 1, column = 2)\n",
    "        \n",
    "    def iscurrPlayer(self):\n",
    "        if self.currmov % 2 == 1:\n",
    "            return \"X\"\n",
    "        else:\n",
    "            return \"O\"\n",
    "        \n",
    "    def btnClick(self, register):\n",
    "        #for measuring registers\n",
    "        if self.ismeasure.get() == \"m\":\n",
    "            self.tempreg1 = register\n",
    "            measure_result = move(self.tempreg1, self.tempreg1, 0, True)\n",
    "            usable_result = find_res(measure_result, self.tempreg1, 9)\n",
    "            print(\"we get:\" , usable_result)\n",
    "            \n",
    "            if int(usable_result) == 0:\n",
    "                self.buttons[register]['text'] = \"O\"\n",
    "                print(\"Printed O\")\n",
    "            else:\n",
    "                self.buttons[register]['text'] = \"X\"\n",
    "                print(\"Printed X\")\n",
    "            return\n",
    "        \n",
    "        #if we not measuring, NOTE: Player 1 = X, Player 2 = O\n",
    "        if self.movenum == 1:\n",
    "            self.movenum += 1\n",
    "            self.tempreg1 = register\n",
    "            self.buttons[register]['text'] = self.iscurrPlayer() + str(math.ceil(self.currmov / 2)) + \" \" + self.buttons[register]['text']\n",
    "            print(\"Player \" + self.iscurrPlayer() + \" needs to choose another block!\")\n",
    "            return\n",
    "        else:\n",
    "            self.movenum = 1\n",
    "            self.tempreg2 = register\n",
    "            self.buttons[register]['text'] = self.iscurrPlayer() + str(math.ceil(self.currmov / 2)) + \" \" + self.buttons[register]['text']\n",
    "        \n",
    "        if self.iscurrPlayer() == \"X\":\n",
    "            move(self.tempreg1, self.tempreg2, 1, False)\n",
    "        else:\n",
    "            move(self.tempreg1, self.tempreg2, 2, False)\n",
    "        self.currmov += 1\n",
    "            "
   ]
  },
  {
   "cell_type": "code",
   "execution_count": 32,
   "id": "5140deae",
   "metadata": {},
   "outputs": [
    {
     "name": "stdout",
     "output_type": "stream",
     "text": [
      "Player X needs to choose another block!\n",
      "Player O needs to choose another block!\n",
      "Player X needs to choose another block!\n",
      "Player O needs to choose another block!\n",
      "Player X needs to choose another block!\n",
      "0 0000010100\n",
      "we get: 0\n",
      "Printed O\n",
      "4 0000000100\n",
      "we get: 0\n",
      "Printed O\n",
      "2 0000100001\n",
      "we get: 0\n",
      "Printed O\n",
      "8 0000100100\n",
      "we get: 0\n",
      "Printed O\n"
     ]
    }
   ],
   "source": [
    "#testing if we have an app\n",
    "\n",
    "root = Tk()\n",
    "myapp = MainApp(root)\n",
    "root.mainloop()"
   ]
  },
  {
   "cell_type": "code",
   "execution_count": null,
   "id": "b8d9de6d",
   "metadata": {},
   "outputs": [],
   "source": []
  }
 ],
 "metadata": {
  "kernelspec": {
   "display_name": "Python 3",
   "language": "python",
   "name": "python3"
  },
  "language_info": {
   "codemirror_mode": {
    "name": "ipython",
    "version": 3
   },
   "file_extension": ".py",
   "mimetype": "text/x-python",
   "name": "python",
   "nbconvert_exporter": "python",
   "pygments_lexer": "ipython3",
   "version": "3.8.8"
  }
 },
 "nbformat": 4,
 "nbformat_minor": 5
}
